{
 "cells": [
  {
   "cell_type": "markdown",
   "metadata": {},
   "source": [
    "# Численное решение интегрального  уравнения Фредгольма 2-го рода"
   ]
  },
  {
   "cell_type": "code",
   "execution_count": 83,
   "metadata": {
    "collapsed": false
   },
   "outputs": [],
   "source": [
    "from sympy import *\n",
    "import numpy as np\n",
    "from numpy import linalg as lin\n",
    "import matplotlib\n",
    "import matplotlib.pyplot as plt\n",
    "import scipy\n",
    "%matplotlib inline  "
   ]
  },
  {
   "cell_type": "code",
   "execution_count": 47,
   "metadata": {
    "collapsed": true
   },
   "outputs": [],
   "source": [
    "init_printing() "
   ]
  },
  {
   "cell_type": "code",
   "execution_count": 48,
   "metadata": {
    "collapsed": false
   },
   "outputs": [],
   "source": [
    "x = Symbol('x')\n",
    "y = Symbol('y')"
   ]
  },
  {
   "cell_type": "markdown",
   "metadata": {},
   "source": [
    "## Метод замены ядра на вырожденное"
   ]
  },
  {
   "cell_type": "markdown",
   "metadata": {},
   "source": [
    "Зададим ядро"
   ]
  },
  {
   "cell_type": "code",
   "execution_count": 49,
   "metadata": {
    "collapsed": false
   },
   "outputs": [],
   "source": [
    "K = sin(x * y)"
   ]
  },
  {
   "cell_type": "markdown",
   "metadata": {},
   "source": [
    "Разложим в ряд в точке (0, 0"
   ]
  },
  {
   "cell_type": "code",
   "execution_count": 50,
   "metadata": {
    "collapsed": false
   },
   "outputs": [
    {
     "data": {
      "image/png": "[encoded data removed]",
      "text/latex": [
       "$$x y - \\frac{x^{3} y^{3}}{6} + \\frac{x^{5} y^{5}}{120} - \\frac{x^{7} y^{7}}{5040} + \\frac{x^{9} y^{9}}{362880} + \\mathcal{O}\\left(x^{11} y^{11}; \\left ( x, \\quad y\\right )\\rightarrow\\left ( 0, \\quad 0\\right )\\right)$$"
      ],
      "text/plain": [
       "       3  3    5  5    7  7    9  9                               \n",
       "      x ⋅y    x ⋅y    x ⋅y    x ⋅y      ⎛ 11  11                 ⎞\n",
       "x⋅y - ───── + ───── - ───── + ────── + O⎝x  ⋅y  ; (x, y) → (0, 0)⎠\n",
       "        6      120     5040   362880                              "
      ]
     },
     "execution_count": 50,
     "metadata": {},
     "output_type": "execute_result"
    }
   ],
   "source": [
    "K.series(x*y, 0, 11)"
   ]
  },
  {
   "cell_type": "markdown",
   "metadata": {},
   "source": [
    "Выделим функции $\\alpha$ и $\\beta$"
   ]
  },
  {
   "cell_type": "code",
   "execution_count": 51,
   "metadata": {
    "collapsed": true
   },
   "outputs": [],
   "source": [
    "alpha = [x, -x ** 3 / 6, x ** 5 / 120, -x ** 7 / 540]\n",
    "beta = [x, x ** 3, x ** 5, x ** 7]\n",
    "f = 1 + x"
   ]
  },
  {
   "cell_type": "code",
   "execution_count": 52,
   "metadata": {
    "collapsed": false
   },
   "outputs": [
    {
     "data": {
      "image/png": "[encoded data removed]",
      "text/latex": [
       "$$\\left [ x, \\quad - \\frac{x^{3}}{6}, \\quad \\frac{x^{5}}{120}, \\quad - \\frac{x^{7}}{540}\\right ]$$"
      ],
      "text/plain": [
       "⎡     3     5    7 ⎤\n",
       "⎢   -x     x   -x  ⎥\n",
       "⎢x, ────, ───, ────⎥\n",
       "⎣    6    120  540 ⎦"
      ]
     },
     "execution_count": 52,
     "metadata": {},
     "output_type": "execute_result"
    }
   ],
   "source": [
    "alpha"
   ]
  },
  {
   "cell_type": "code",
   "execution_count": 53,
   "metadata": {
    "collapsed": false
   },
   "outputs": [
    {
     "data": {
      "image/png": "[encoded data removed]",
      "text/latex": [
       "$$\\left [ x, \\quad x^{3}, \\quad x^{5}, \\quad x^{7}\\right ]$$"
      ],
      "text/plain": [
       "⎡    3   5   7⎤\n",
       "⎣x, x , x , x ⎦"
      ]
     },
     "execution_count": 53,
     "metadata": {},
     "output_type": "execute_result"
    }
   ],
   "source": [
    "beta"
   ]
  },
  {
   "cell_type": "markdown",
   "metadata": {},
   "source": [
    "Найдем матрицу скалярных произведений + $\\delta_{i, j}$"
   ]
  },
  {
   "cell_type": "code",
   "execution_count": 54,
   "metadata": {
    "collapsed": false
   },
   "outputs": [
    {
     "data": {
      "text/plain": [
       "array([[ 0.,  0.,  0.,  0.],\n",
       "       [ 0.,  0.,  0.,  0.],\n",
       "       [ 0.,  0.,  0.,  0.],\n",
       "       [ 0.,  0.,  0.,  0.]])"
      ]
     },
     "execution_count": 54,
     "metadata": {},
     "output_type": "execute_result"
    }
   ],
   "source": [
    "H = np.zeros([4, 4])\n",
    "H"
   ]
  },
  {
   "cell_type": "code",
   "execution_count": 55,
   "metadata": {
    "collapsed": false
   },
   "outputs": [],
   "source": [
    "for i in range(0, 4):\n",
    "    for j in range(0, 4):\n",
    "        H[i, j] = np.float64(integrate(alpha[j] * beta[i], (x, 0, 1))) + (1 if i == j else 0)"
   ]
  },
  {
   "cell_type": "code",
   "execution_count": 56,
   "metadata": {
    "collapsed": false
   },
   "outputs": [
    {
     "data": {
      "text/plain": [
       "array([[  1.33333333e+00,  -3.33333333e-02,   1.19047619e-03,\n",
       "         -2.05761317e-04],\n",
       "       [  2.00000000e-01,   9.76190476e-01,   9.25925926e-04,\n",
       "         -1.68350168e-04],\n",
       "       [  1.42857143e-01,  -1.85185185e-02,   1.00075758e+00,\n",
       "         -1.42450142e-04],\n",
       "       [  1.11111111e-01,  -1.51515152e-02,   6.41025641e-04,\n",
       "          9.99876543e-01]])"
      ]
     },
     "execution_count": 56,
     "metadata": {},
     "output_type": "execute_result"
    }
   ],
   "source": [
    "H"
   ]
  },
  {
   "cell_type": "markdown",
   "metadata": {},
   "source": [
    "Найдем вектор $(\\beta_i, f)$"
   ]
  },
  {
   "cell_type": "code",
   "execution_count": 57,
   "metadata": {
    "collapsed": true
   },
   "outputs": [],
   "source": [
    "b = np.zeros([4])"
   ]
  },
  {
   "cell_type": "code",
   "execution_count": 58,
   "metadata": {
    "collapsed": true
   },
   "outputs": [],
   "source": [
    "for i in range(0, 4):\n",
    "    b[i] = np.float64(integrate(beta[i] * f, (x, 0, 1)))"
   ]
  },
  {
   "cell_type": "code",
   "execution_count": 59,
   "metadata": {
    "collapsed": false
   },
   "outputs": [
    {
     "data": {
      "text/plain": [
       "array([ 0.83333333,  0.45      ,  0.30952381,  0.23611111])"
      ]
     },
     "execution_count": 59,
     "metadata": {},
     "output_type": "execute_result"
    }
   ],
   "source": [
    "b"
   ]
  },
  {
   "cell_type": "markdown",
   "metadata": {},
   "source": [
    "Решим систему линейных уравнений для $q = 3$"
   ]
  },
  {
   "cell_type": "code",
   "execution_count": 60,
   "metadata": {
    "collapsed": false
   },
   "outputs": [
    {
     "data": {
      "text/plain": [
       "array([ 0.63307554,  0.33105887,  0.22504468])"
      ]
     },
     "execution_count": 60,
     "metadata": {},
     "output_type": "execute_result"
    }
   ],
   "source": [
    "a3 = lin.solve(H[:3, :3], b[:3])\n",
    "a3"
   ]
  },
  {
   "cell_type": "code",
   "execution_count": 61,
   "metadata": {
    "collapsed": false
   },
   "outputs": [
    {
     "data": {
      "image/png": "[encoded data removed]",
      "text/latex": [
       "$$- 0.00187537231879198 x^{5} + 0.0551764785958069 x^{3} + 0.366924460959071 x + 1$$"
      ],
      "text/plain": [
       "                       5                       3                          \n",
       "- 0.00187537231879198⋅x  + 0.0551764785958069⋅x  + 0.366924460959071⋅x + 1"
      ]
     },
     "execution_count": 61,
     "metadata": {},
     "output_type": "execute_result"
    }
   ],
   "source": [
    "u3 = f - np.array(alpha[:3]).dot(a3)\n",
    "u3"
   ]
  },
  {
   "cell_type": "markdown",
   "metadata": {},
   "source": [
    "Решим систему линейных уравнений для $q = 4$"
   ]
  },
  {
   "cell_type": "code",
   "execution_count": 62,
   "metadata": {
    "collapsed": false
   },
   "outputs": [
    {
     "data": {
      "text/plain": [
       "array([ 0.63310245,  0.33108277,  0.22506557,  0.1706596 ])"
      ]
     },
     "execution_count": 62,
     "metadata": {},
     "output_type": "execute_result"
    }
   ],
   "source": [
    "a4 = lin.solve(H[:4, :4], b[:4])\n",
    "a4"
   ]
  },
  {
   "cell_type": "code",
   "execution_count": 63,
   "metadata": {
    "collapsed": false
   },
   "outputs": [
    {
     "data": {
      "image/png": "[encoded data removed]",
      "text/latex": [
       "$$0.000316036288615207 x^{7} - 0.00187554642027277 x^{5} + 0.055180461459298 x^{3} + 0.366897545825893 x + 1$$"
      ],
      "text/plain": [
       "                      7                        5                      3       \n",
       "0.000316036288615207⋅x  - 0.00187554642027277⋅x  + 0.055180461459298⋅x  + 0.36\n",
       "\n",
       "                   \n",
       "6897545825893⋅x + 1"
      ]
     },
     "execution_count": 63,
     "metadata": {},
     "output_type": "execute_result"
    }
   ],
   "source": [
    "u4 = f - np.array(alpha).dot(a4)\n",
    "u4"
   ]
  },
  {
   "cell_type": "markdown",
   "metadata": {},
   "source": [
    "Найдем максимум разницы $u_3$ и $u_4$ в узлах сетки"
   ]
  },
  {
   "cell_type": "code",
   "execution_count": 64,
   "metadata": {
    "collapsed": false
   },
   "outputs": [
    {
     "data": {
      "text/plain": [
       "array([ 1.        ,  1.0367476 ,  1.0738257 ,  1.11156255,  1.15028188,\n",
       "        1.19030068,  1.23192697,  1.27545746,  1.3211754 ,  1.36934828,\n",
       "        1.42022557])"
      ]
     },
     "execution_count": 64,
     "metadata": {},
     "output_type": "execute_result"
    }
   ],
   "source": [
    "z = np.arange(0, 1.1, 0.1)\n",
    "vfunc3 = np.vectorize(lambda zk: np.float64(u3.subs(x, zk)))\n",
    "u3k = vfunc3(z)\n",
    "u3k"
   ]
  },
  {
   "cell_type": "code",
   "execution_count": 65,
   "metadata": {
    "collapsed": false
   },
   "outputs": [
    {
     "data": {
      "text/plain": [
       "array([ 1.        ,  1.03674492,  1.07382036,  1.11155465,  1.15027188,\n",
       "        1.19029019,  1.23192051,  1.27546598,  1.32122213,  1.36947802,\n",
       "        1.4205185 ])"
      ]
     },
     "execution_count": 65,
     "metadata": {},
     "output_type": "execute_result"
    }
   ],
   "source": [
    "vfunc4 = np.vectorize(lambda zk: np.float64(u4.subs(x, zk)))\n",
    "u4k = vfunc4(z)\n",
    "u4k"
   ]
  },
  {
   "cell_type": "code",
   "execution_count": 66,
   "metadata": {
    "collapsed": false
   },
   "outputs": [
    {
     "data": {
      "image/png": "[encoded data removed]",
      "text/latex": [
       "$$0.000292929917447$$"
      ],
      "text/plain": [
       "0.000292929917447"
      ]
     },
     "execution_count": 66,
     "metadata": {},
     "output_type": "execute_result"
    }
   ],
   "source": [
    "np.max(np.abs(u3k - u4k))"
   ]
  },
  {
   "cell_type": "code",
   "execution_count": 67,
   "metadata": {
    "collapsed": false
   },
   "outputs": [
    {
     "data": {
      "image/png": "[encoded data removed]",
      "text/plain": [
       "<matplotlib.figure.Figure at 0x7f6e075b5400>"
      ]
     },
     "metadata": {},
     "output_type": "display_data"
    },
    {
     "data": {
      "text/plain": [
       "<sympy.plotting.plot.Plot at 0x7f6e075b5d68>"
      ]
     },
     "execution_count": 67,
     "metadata": {},
     "output_type": "execute_result"
    }
   ],
   "source": [
    "plot(u3 - u4, xlim=(0, 1.1), ylim=(-0.001, 0.0001))"
   ]
  },
  {
   "cell_type": "markdown",
   "metadata": {},
   "source": [
    "## Метод механических квадратур"
   ]
  },
  {
   "cell_type": "markdown",
   "metadata": {},
   "source": [
    "### Квадратурная формула Гауса с 6 узлами"
   ]
  },
  {
   "cell_type": "markdown",
   "metadata": {},
   "source": [
    "Корни многочлена Лежандра:"
   ]
  },
  {
   "cell_type": "code",
   "execution_count": 68,
   "metadata": {
    "collapsed": false
   },
   "outputs": [],
   "source": [
    "t = np.polynomial.legendre.leggauss(6)[0]\n",
    "A = np.polynomial.legendre.leggauss(6)[1]"
   ]
  },
  {
   "cell_type": "markdown",
   "metadata": {},
   "source": [
    "Узлы квадратурной формы на $[0, 1]$"
   ]
  },
  {
   "cell_type": "code",
   "execution_count": 69,
   "metadata": {
    "collapsed": false
   },
   "outputs": [
    {
     "data": {
      "text/plain": [
       "array([ 0.03376524,  0.16939531,  0.38069041,  0.61930959,  0.83060469,\n",
       "        0.96623476])"
      ]
     },
     "execution_count": 69,
     "metadata": {},
     "output_type": "execute_result"
    }
   ],
   "source": [
    "tw = t * 1/2 + 1/2\n",
    "tw"
   ]
  },
  {
   "cell_type": "markdown",
   "metadata": {},
   "source": [
    "Коэффициенты квадратурной формы на $[0, 1]$"
   ]
  },
  {
   "cell_type": "code",
   "execution_count": 70,
   "metadata": {
    "collapsed": false
   },
   "outputs": [
    {
     "data": {
      "text/plain": [
       "array([ 0.08566225,  0.18038079,  0.23395697,  0.23395697,  0.18038079,\n",
       "        0.08566225])"
      ]
     },
     "execution_count": 70,
     "metadata": {},
     "output_type": "execute_result"
    }
   ],
   "source": [
    "Aw = A * 1/2\n",
    "Aw"
   ]
  },
  {
   "cell_type": "markdown",
   "metadata": {},
   "source": [
    "Построим матрицу G, вектор d"
   ]
  },
  {
   "cell_type": "code",
   "execution_count": 71,
   "metadata": {
    "collapsed": false
   },
   "outputs": [
    {
     "data": {
      "text/plain": [
       "array([[  1.00009766e+00,   1.03171361e-03,   3.00722439e-03,\n",
       "          4.89195009e-03,   5.05821868e-03,   2.79424798e-03],\n",
       "       [  4.89957423e-04,   1.00517527e+00,   1.50767676e-02,\n",
       "          2.44989940e-02,   2.52960176e-02,   1.39583039e-02],\n",
       "       [  1.10108110e-03,   1.16241855e-02,   1.03378769e+00,\n",
       "          5.46493308e-02,   5.60912602e-02,   3.08039136e-02],\n",
       "       [  1.79116458e-03,   1.88887207e-02,   5.46493308e-02,\n",
       "          1.08754896e+00,   8.87498454e-02,   4.82552511e-02],\n",
       "       [  2.40213153e-03,   2.52960176e-02,   7.27513244e-02,\n",
       "          1.15110068e-01,   1.11480574e+00,   6.16028649e-02],\n",
       "       [  2.79424798e-03,   2.93922929e-02,   8.41302968e-02,\n",
       "          1.31792624e-01,   1.29718443e-01,   1.06885297e+00]])"
      ]
     },
     "execution_count": 71,
     "metadata": {},
     "output_type": "execute_result"
    }
   ],
   "source": [
    "G = np.zeros([6, 6])\n",
    "for i in np.arange(6):\n",
    "    for j in np.arange(6):\n",
    "        G[i, j] = Aw[j] * np.float64(K.subs(x, tw[i]).subs(y, tw[j])) + (1 if i == j else 0)\n",
    "G"
   ]
  },
  {
   "cell_type": "code",
   "execution_count": 72,
   "metadata": {
    "collapsed": false
   },
   "outputs": [
    {
     "data": {
      "text/plain": [
       "array([ 1.03376524,  1.16939531,  1.38069041,  1.61930959,  1.83060469,\n",
       "        1.96623476])"
      ]
     },
     "execution_count": 72,
     "metadata": {},
     "output_type": "execute_result"
    }
   ],
   "source": [
    "d = np.zeros([6])\n",
    "for i in np.arange(6):\n",
    "        d[i] = np.float64(f.subs(x, tw[i]))\n",
    "d"
   ]
  },
  {
   "cell_type": "markdown",
   "metadata": {},
   "source": [
    "Найдем значения $u_i$ в узлах квадратурной формы"
   ]
  },
  {
   "cell_type": "code",
   "execution_count": 73,
   "metadata": {
    "collapsed": false
   },
   "outputs": [
    {
     "data": {
      "text/plain": [
       "array([ 1.01239132,  1.06242274,  1.14271278,  1.24017471,  1.33565299,\n",
       "        1.40275362])"
      ]
     },
     "execution_count": 73,
     "metadata": {},
     "output_type": "execute_result"
    }
   ],
   "source": [
    "zeta = lin.solve(G, d)\n",
    "zeta"
   ]
  },
  {
   "cell_type": "markdown",
   "metadata": {},
   "source": [
    "Получим оценку функции $u$"
   ]
  },
  {
   "cell_type": "code",
   "execution_count": 74,
   "metadata": {
    "collapsed": false
   },
   "outputs": [
    {
     "data": {
      "image/png": "[encoded data removed]",
      "text/latex": [
       "$$x - 0.0867237145842367 \\sin{\\left (0.033765242898424 x \\right )} - 0.191640649069136 \\sin{\\left (0.169395306766868 x \\right )} - 0.267345616046777 \\sin{\\left (0.380690406958402 x \\right )} - 0.290147513984824 \\sin{\\left (0.619309593041598 x \\right )} - 0.240926137145753 \\sin{\\left (0.830604693233132 x \\right )} - 0.120163025786496 \\sin{\\left (0.966234757101576 x \\right )} + 1$$"
      ],
      "text/plain": [
       "x - 0.0867237145842367⋅sin(0.033765242898424⋅x) - 0.191640649069136⋅sin(0.1693\n",
       "95306766868⋅x) - 0.267345616046777⋅sin(0.380690406958402⋅x) - 0.29014751398482\n",
       "4⋅sin(0.619309593041598⋅x) - 0.240926137145753⋅sin(0.830604693233132⋅x) - 0.12\n",
       "0163025786496⋅sin(0.966234757101576⋅x) + 1"
      ]
     },
     "execution_count": 74,
     "metadata": {},
     "output_type": "execute_result"
    }
   ],
   "source": [
    "vec = np.vectorize(lambda x: K.subs(y, x))\n",
    "uq6 = -vec(tw).dot(Aw * zeta) + f\n",
    "uq6"
   ]
  },
  {
   "cell_type": "markdown",
   "metadata": {},
   "source": [
    "Найдем значения в узлах равномерной сетки"
   ]
  },
  {
   "cell_type": "code",
   "execution_count": 75,
   "metadata": {
    "collapsed": false
   },
   "outputs": [
    {
     "data": {
      "text/plain": [
       "array([ 1.        ,  1.03674732,  1.07382514,  1.11156171,  1.15028081,\n",
       "        1.19029957,  1.23192629,  1.27545838,  1.32118038,  1.36936205,\n",
       "        1.4202566 ])"
      ]
     },
     "execution_count": 75,
     "metadata": {},
     "output_type": "execute_result"
    }
   ],
   "source": [
    "vec = np.vectorize(lambda zk: np.float64(uq6.subs(x, zk)))\n",
    "uq6k = vec(z)\n",
    "uq6k"
   ]
  },
  {
   "cell_type": "markdown",
   "metadata": {},
   "source": [
    "Найдем максимум разницы двух предложенных методов"
   ]
  },
  {
   "cell_type": "code",
   "execution_count": 115,
   "metadata": {
    "collapsed": false
   },
   "outputs": [
    {
     "data": {
      "image/png": "[encoded data removed]",
      "text/latex": [
       "$$0.000261901191577$$"
      ],
      "text/plain": [
       "0.000261901191577"
      ]
     },
     "execution_count": 115,
     "metadata": {},
     "output_type": "execute_result"
    }
   ],
   "source": [
    "np.max(np.abs(uq6k - u4k))"
   ]
  },
  {
   "cell_type": "code",
   "execution_count": 116,
   "metadata": {
    "collapsed": false
   },
   "outputs": [
    {
     "data": {
      "text/plain": [
       "[<matplotlib.lines.Line2D at 0x7f6e0754f0b8>]"
      ]
     },
     "execution_count": 116,
     "metadata": {},
     "output_type": "execute_result"
    },
    {
     "data": {
      "image/png": "[encoded data removed]",
      "text/plain": [
       "<matplotlib.figure.Figure at 0x7f6e03c63940>"
      ]
     },
     "metadata": {},
     "output_type": "display_data"
    }
   ],
   "source": [
    "plt.plot(z, uq6k - u4k)"
   ]
  },
  {
   "cell_type": "markdown",
   "metadata": {},
   "source": [
    "### Квадратурная формула Гауса с 4 узлами"
   ]
  },
  {
   "cell_type": "code",
   "execution_count": 98,
   "metadata": {
    "collapsed": false
   },
   "outputs": [],
   "source": [
    "t = np.polynomial.legendre.leggauss(4)[0]\n",
    "A = np.polynomial.legendre.leggauss(4)[1]"
   ]
  },
  {
   "cell_type": "code",
   "execution_count": 99,
   "metadata": {
    "collapsed": false
   },
   "outputs": [],
   "source": [
    "tw = t * 1/2 + 1/2"
   ]
  },
  {
   "cell_type": "code",
   "execution_count": 100,
   "metadata": {
    "collapsed": false
   },
   "outputs": [],
   "source": [
    "Aw = A * 1/2"
   ]
  },
  {
   "cell_type": "code",
   "execution_count": 101,
   "metadata": {
    "collapsed": false
   },
   "outputs": [],
   "source": [
    "G = np.zeros([4, 4])\n",
    "for i in np.arange(4):\n",
    "    for j in np.arange(4):\n",
    "        G[i, j] = Aw[j] * np.float64(K.subs(x, tw[i]).subs(y, tw[j])) + (1 if i == j else 0)"
   ]
  },
  {
   "cell_type": "code",
   "execution_count": 102,
   "metadata": {
    "collapsed": false
   },
   "outputs": [],
   "source": [
    "d = np.zeros([4])\n",
    "for i in np.arange(4):\n",
    "        d[i] = np.float64(f.subs(x, tw[i]))"
   ]
  },
  {
   "cell_type": "code",
   "execution_count": 103,
   "metadata": {
    "collapsed": false
   },
   "outputs": [],
   "source": [
    "zeta = lin.solve(G, d)"
   ]
  },
  {
   "cell_type": "code",
   "execution_count": 104,
   "metadata": {
    "collapsed": false
   },
   "outputs": [],
   "source": [
    "vec = np.vectorize(lambda x: K.subs(y, x))\n",
    "uq4 = -vec(tw).dot(Aw * zeta) + f"
   ]
  },
  {
   "cell_type": "code",
   "execution_count": 118,
   "metadata": {
    "collapsed": false
   },
   "outputs": [
    {
     "data": {
      "text/plain": [
       "array([ 1.        ,  1.03674732,  1.07382514,  1.11156171,  1.15028081,\n",
       "        1.19029957,  1.23192629,  1.27545838,  1.32118038,  1.36936206,\n",
       "        1.4202566 ])"
      ]
     },
     "execution_count": 118,
     "metadata": {},
     "output_type": "execute_result"
    }
   ],
   "source": [
    "vec = np.vectorize(lambda zk: np.float64(uq4.subs(x, zk)))\n",
    "uq4k = vec(z)\n",
    "uq4k"
   ]
  },
  {
   "cell_type": "code",
   "execution_count": 121,
   "metadata": {
    "collapsed": false
   },
   "outputs": [
    {
     "data": {
      "image/png": "[encoded data removed]",
      "text/latex": [
       "$$7.94605292675e-09$$"
      ],
      "text/plain": [
       "7.94605292675e-09"
      ]
     },
     "execution_count": 121,
     "metadata": {},
     "output_type": "execute_result"
    }
   ],
   "source": [
    "np.max(np.abs(uq4k - uq6k))"
   ]
  }
 ],
 "metadata": {
  "kernelspec": {
   "display_name": "Python 3",
   "language": "python",
   "name": "python3"
  },
  "language_info": {
   "codemirror_mode": {
    "name": "ipython",
    "version": 3
   },
   "file_extension": ".py",
   "mimetype": "text/x-python",
   "name": "python",
   "nbconvert_exporter": "python",
   "pygments_lexer": "ipython3",
   "version": "3.6.0"
  }
 },
 "nbformat": 4,
 "nbformat_minor": 2
}
