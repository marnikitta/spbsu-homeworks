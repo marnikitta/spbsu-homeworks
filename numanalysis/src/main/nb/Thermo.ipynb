{
 "cells": [
  {
   "cell_type": "code",
   "execution_count": 30,
   "metadata": {
    "collapsed": true
   },
   "outputs": [],
   "source": [
    "import numpy as np"
   ]
  },
  {
   "cell_type": "markdown",
   "metadata": {},
   "source": [
    "# Метод сеток для уравнения теплопроводности"
   ]
  },
  {
   "cell_type": "markdown",
   "metadata": {},
   "source": [
    "## Маршалкин Никита"
   ]
  },
  {
   "cell_type": "markdown",
   "metadata": {},
   "source": [
    "Точное решение:"
   ]
  },
  {
   "cell_type": "markdown",
   "metadata": {},
   "source": [
    "$u_t= a u_{xx} + f(x, t)$"
   ]
  },
  {
   "cell_type": "code",
   "execution_count": 31,
   "metadata": {
    "collapsed": true
   },
   "outputs": [],
   "source": [
    "u_exact = lambda x, t: np.exp(-0.25 * t) * np.cos(0.5 * x) + x * (1 - x) / (10 + t)"
   ]
  },
  {
   "cell_type": "markdown",
   "metadata": {},
   "source": [
    "Параметры уравнения:"
   ]
  },
  {
   "cell_type": "code",
   "execution_count": 32,
   "metadata": {
    "collapsed": true
   },
   "outputs": [],
   "source": [
    "f = lambda x, t: -x * (1 - x) / (10 + t) ** 2 + 2 / (10 + t)\n",
    "a = 1"
   ]
  },
  {
   "cell_type": "markdown",
   "metadata": {},
   "source": [
    "Краевые условия:"
   ]
  },
  {
   "cell_type": "code",
   "execution_count": 33,
   "metadata": {
    "collapsed": true
   },
   "outputs": [],
   "source": [
    "u_t0 = lambda x: np.cos(0.5 * x) + x * (1 - x) / 10"
   ]
  },
  {
   "cell_type": "code",
   "execution_count": 34,
   "metadata": {
    "collapsed": true
   },
   "outputs": [],
   "source": [
    "u0 = lambda t: np.exp(-0.25 * t)\n",
    "u1 = lambda t: np.exp(-0.25 * t) * np.cos(0.5)"
   ]
  },
  {
   "cell_type": "markdown",
   "metadata": {},
   "source": [
    "Задаем сетку по оси $x$"
   ]
  },
  {
   "cell_type": "code",
   "execution_count": 61,
   "metadata": {
    "collapsed": false
   },
   "outputs": [
    {
     "data": {
      "text/plain": [
       "0.01"
      ]
     },
     "execution_count": 61,
     "metadata": {},
     "output_type": "execute_result"
    }
   ],
   "source": [
    "n = 100\n",
    "h = (1 - 0) / n\n",
    "h"
   ]
  },
  {
   "cell_type": "code",
   "execution_count": 62,
   "metadata": {
    "collapsed": false
   },
   "outputs": [],
   "source": [
    "x_net = np.linspace(0, 1, n + 1)"
   ]
  },
  {
   "cell_type": "markdown",
   "metadata": {},
   "source": [
    "Находим шаг по оси $t$ исходя из условия сходимоси: $\\tau \\leq \\frac{h^2}{2a}$"
   ]
  },
  {
   "cell_type": "code",
   "execution_count": 63,
   "metadata": {
    "collapsed": false
   },
   "outputs": [
    {
     "data": {
      "text/plain": [
       "4.999750012499375e-05"
      ]
     },
     "execution_count": 63,
     "metadata": {},
     "output_type": "execute_result"
    }
   ],
   "source": [
    "tau_tmp = h ** 2/ (2 * a)\n",
    "m = np.int((1 - 0) / tau_tmp + 1)\n",
    "tau = (1 - 0) / m\n",
    "tau"
   ]
  },
  {
   "cell_type": "code",
   "execution_count": 64,
   "metadata": {
    "collapsed": true
   },
   "outputs": [],
   "source": [
    "t_net = np.linspace(0, 1, m + 1)"
   ]
  },
  {
   "cell_type": "markdown",
   "metadata": {},
   "source": [
    "Теоретическая погрешность"
   ]
  },
  {
   "cell_type": "code",
   "execution_count": 65,
   "metadata": {
    "collapsed": false
   },
   "outputs": [
    {
     "data": {
      "text/plain": [
       "0.00014999750012499374"
      ]
     },
     "execution_count": 65,
     "metadata": {},
     "output_type": "execute_result"
    }
   ],
   "source": [
    "tau + h ** 2"
   ]
  },
  {
   "cell_type": "markdown",
   "metadata": {},
   "source": [
    "## Явная трехточечная схема"
   ]
  },
  {
   "cell_type": "markdown",
   "metadata": {},
   "source": [
    "Найдем значения на границе области"
   ]
  },
  {
   "cell_type": "code",
   "execution_count": 66,
   "metadata": {
    "collapsed": false
   },
   "outputs": [],
   "source": [
    "u = np.zeros((n + 1, m + 1))\n",
    "for i in np.arange(0, n + 1):\n",
    "    u[i, 0] = u_t0(x_net[i])\n",
    "    \n",
    "for j in np.arange(0, m + 1):\n",
    "    u[0, j] = u0(t_net[j])\n",
    "    u[n, j] = u1(t_net[j])"
   ]
  },
  {
   "cell_type": "markdown",
   "metadata": {},
   "source": [
    "Пересчитаем значение в точке $(i, k)$ через занчения в точках $(i, k - 1)$,  $(i - 1, k - 1)$, $(i + 1, k - 1)$"
   ]
  },
  {
   "cell_type": "code",
   "execution_count": 67,
   "metadata": {
    "collapsed": false
   },
   "outputs": [],
   "source": [
    "for k in np.arange(1, m + 1):\n",
    "    for i in np.arange(1, n):\n",
    "        u[i, k] = (1 - 2 * a * tau / h ** 2) * u[i, k - 1] + a * tau / h ** 2 * (u[i - 1, k - 1] + u[i + 1, k - 1]) + tau * f(x_net[i], t_net[k - 1])"
   ]
  },
  {
   "cell_type": "markdown",
   "metadata": {},
   "source": [
    "Посчитаем $|max(u^* - u)|$ в узлах сетки"
   ]
  },
  {
   "cell_type": "code",
   "execution_count": 68,
   "metadata": {
    "collapsed": false
   },
   "outputs": [
    {
     "data": {
      "text/plain": [
       "1.1522422982412905e-07"
      ]
     },
     "execution_count": 68,
     "metadata": {},
     "output_type": "execute_result"
    }
   ],
   "source": [
    "max_diff = 0\n",
    "for i in np.arange(0, n + 1):\n",
    "    for k in np.arange(0, m + 1):\n",
    "        diff = np.abs(u_exact(x_net[i], t_net[k]) - u[i, k])\n",
    "        max_diff = diff if diff > max_diff else max_diff\n",
    "max_diff"
   ]
  },
  {
   "cell_type": "markdown",
   "metadata": {},
   "source": [
    "## Неявная трехточечная схема"
   ]
  },
  {
   "cell_type": "code",
   "execution_count": 69,
   "metadata": {
    "collapsed": false
   },
   "outputs": [],
   "source": [
    "u = np.zeros((n + 1, m + 1))\n",
    "for i in np.arange(0, n + 1):\n",
    "    u[i, 0] = u_t0(x_net[i])"
   ]
  },
  {
   "cell_type": "code",
   "execution_count": 70,
   "metadata": {
    "collapsed": false
   },
   "outputs": [],
   "source": [
    "A = np.identity(n + 1)\n",
    "for i in np.arange(1, n):\n",
    "    for j in np.arange(0, n + 1):\n",
    "        if i == j + 1 or i == j - 1:\n",
    "            A[i, j] = -a * tau / h ** 2\n",
    "        elif i == j:\n",
    "            A[i, j] = 1 + 2 * a * tau / h ** 2"
   ]
  },
  {
   "cell_type": "code",
   "execution_count": 71,
   "metadata": {
    "collapsed": false
   },
   "outputs": [],
   "source": [
    "for k in np.arange(1, m + 1):\n",
    "    b = np.empty(n + 1)\n",
    "    t = t_net[k]\n",
    "    b[0] = u0(t)\n",
    "    b[n] = u1(t)\n",
    "    for i in np.arange(1, n):\n",
    "        b[i] = tau * f(x_net[i], t) + u[i, k - 1]\n",
    "    u[:, k] = np.linalg.solve(A, b)"
   ]
  },
  {
   "cell_type": "markdown",
   "metadata": {},
   "source": [
    "Посчитаем $|max(u^* - u)|$ в узлах сетки"
   ]
  },
  {
   "cell_type": "code",
   "execution_count": 72,
   "metadata": {
    "collapsed": false
   },
   "outputs": [
    {
     "data": {
      "text/plain": [
       "2.2928024034918337e-07"
      ]
     },
     "execution_count": 72,
     "metadata": {},
     "output_type": "execute_result"
    }
   ],
   "source": [
    "max_diff = 0\n",
    "for i in np.arange(0, n + 1):\n",
    "    for k in np.arange(0, m + 1):\n",
    "        diff = np.abs(u_exact(x_net[i], t_net[k]) - u[i, k])\n",
    "        max_diff = diff if diff > max_diff else max_diff\n",
    "max_diff"
   ]
  }
 ],
 "metadata": {
  "kernelspec": {
   "display_name": "Python 3",
   "language": "python",
   "name": "python3"
  },
  "language_info": {
   "codemirror_mode": {
    "name": "ipython",
    "version": 3
   },
   "file_extension": ".py",
   "mimetype": "text/x-python",
   "name": "python",
   "nbconvert_exporter": "python",
   "pygments_lexer": "ipython3",
   "version": "3.6.0"
  }
 },
 "nbformat": 4,
 "nbformat_minor": 2
}
