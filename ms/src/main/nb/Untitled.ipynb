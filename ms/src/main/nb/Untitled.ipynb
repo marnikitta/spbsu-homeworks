{
 "cells": [
  {
   "cell_type": "markdown",
   "metadata": {},
   "source": [
    "# Логистическая регрессия"
   ]
  },
  {
   "cell_type": "code",
   "execution_count": 206,
   "metadata": {
    "collapsed": false
   },
   "outputs": [
    {
     "data": {
      "image/png": "[encoded data removed]",
      "text/plain": [
       "plot without title"
      ]
     },
     "metadata": {},
     "output_type": "display_data"
    }
   ],
   "source": [
    "plot(seq(-10, 10, 0.1), 1 / (1 + exp(-seq(-10, 10, 0.1))), t=\"l\")\n",
    "abline(0.5, 0)\n",
    "abline(v=0)"
   ]
  },
  {
   "cell_type": "markdown",
   "metadata": {},
   "source": [
    "## Титаник"
   ]
  },
  {
   "cell_type": "markdown",
   "metadata": {},
   "source": [
    "### Data Dictionary\n",
    "\n",
    "| Variable | Definition\t| Key |\n",
    "|:---------|:-----------|:-----|\n",
    "| survival | Survival| \t0 = No, 1 = Yes |\n",
    "|pclass |\tTicket class |\t1 = 1st, 2 = 2nd, 3 = 3rd |\n",
    "|sex |\tSex \t|\n",
    "|Age |\tAge in years \t|\n",
    "|sibsp | # of siblings / spouses aboard the Titanic \t|\n",
    "|parch |\t# of parents / children aboard the Titanic \t|\n",
    "|ticket |\tTicket number \t|\n",
    "|fare |\tPassenger fare \t|\n",
    "|cabin |\tCabin number |\t\n",
    "|embarked |\tPort of Embarkation | C = Cherbourg, Q = Queenstown, S = Southampton |\n",
    "\n",
    "\n",
    "### Variable Notes\n",
    "\n",
    "**pclass:** A proxy for socio-economic status (SES)\n",
    "* 1st = Upper\n",
    "* 2nd = Middle\n",
    "* 3rd = Lower\n",
    "\n",
    "** age: ** Age is fractional if less than 1. If the age is estimated, is it in the form of xx.5\n",
    "\n",
    "** sibsp: ** The dataset defines family relations in this way...\n",
    "\n",
    "**Sibling**= brother, sister, stepbrother, stepsister\n",
    "\n",
    "**Spouse ** = husband, wife (mistresses and fiancés were ignored)\n",
    "\n",
    "** parch: ** The dataset defines family relations in this way...\n",
    "\n",
    "** Parent ** = mother, father\n",
    "\n",
    "** Child ** = daughter, son, stepdaughter, stepson\n",
    "\n",
    "Some children travelled only with a nanny, therefore parch=0 for them."
   ]
  },
  {
   "cell_type": "markdown",
   "metadata": {},
   "source": [
    "### Задание:"
   ]
  },
  {
   "cell_type": "markdown",
   "metadata": {},
   "source": [
    "Переменная Sex - должна быть фактором (так как она категориальная).\n",
    "\n",
    "Построить логистическую регрессию, где зависимая переменная - \"Survived\", а зависимые - \"Pclass\", \"Sex\", \"Age\", \"SibSp\", \"Parch\", \"Fare\". \n",
    "\n",
    "Посмотреть на результат. \n",
    "\n",
    "Что значат полученные коэффициенты?"
   ]
  },
  {
   "cell_type": "markdown",
   "metadata": {},
   "source": [
    "### Функции R"
   ]
  },
  {
   "cell_type": "markdown",
   "metadata": {},
   "source": [
    "`mydata <- read.csv(file)`\n",
    "\n",
    "`summary(mydata)` - описательная статистика для всех переменных\n",
    "датасета\n",
    "\n",
    "`mydata$rank <- factor(mydata$rank)`\n",
    "\n",
    "`mean(data$column1, na.rm = T)` - среднее не включая NA\n",
    "\n",
    "`mydata <- mydata[, c(\"colname1\", \"colname2\")]` - выборка столбцов из data.frame\n",
    "\n",
    "`mylogit <- glm(Survived ~ Pclass + Sex + Age + SibSp + Parch + Fare, data=data, family = \"binomial\")`"
   ]
  },
  {
   "cell_type": "markdown",
   "metadata": {},
   "source": [
    "**Hint:** NA возраст можно заменить средним по больнице"
   ]
  },
  {
   "cell_type": "code",
   "execution_count": 203,
   "metadata": {
    "collapsed": false
   },
   "outputs": [
    {
     "data": {
      "text/html": [
       "<table>\n",
       "<thead><tr><th scope=col>PassengerId</th><th scope=col>Survived</th><th scope=col>Pclass</th><th scope=col>Name</th><th scope=col>Sex</th><th scope=col>Age</th><th scope=col>SibSp</th><th scope=col>Parch</th><th scope=col>Ticket</th><th scope=col>Fare</th><th scope=col>Cabin</th><th scope=col>Embarked</th></tr></thead>\n",
       "<tbody>\n",
       "\t<tr><td>1                                                  </td><td>0                                                  </td><td>3                                                  </td><td>Braund, Mr. Owen Harris                            </td><td>male                                               </td><td>22                                                 </td><td>1                                                  </td><td>0                                                  </td><td>A/5 21171                                          </td><td> 7.2500                                            </td><td>                                                   </td><td>S                                                  </td></tr>\n",
       "\t<tr><td>2                                                  </td><td>1                                                  </td><td>1                                                  </td><td>Cumings, Mrs. John Bradley (Florence Briggs Thayer)</td><td>female                                             </td><td>38                                                 </td><td>1                                                  </td><td>0                                                  </td><td>PC 17599                                           </td><td>71.2833                                            </td><td>C85                                                </td><td>C                                                  </td></tr>\n",
       "\t<tr><td>3                                                  </td><td>1                                                  </td><td>3                                                  </td><td>Heikkinen, Miss. Laina                             </td><td>female                                             </td><td>26                                                 </td><td>0                                                  </td><td>0                                                  </td><td>STON/O2. 3101282                                   </td><td> 7.9250                                            </td><td>                                                   </td><td>S                                                  </td></tr>\n",
       "\t<tr><td>4                                                  </td><td>1                                                  </td><td>1                                                  </td><td>Futrelle, Mrs. Jacques Heath (Lily May Peel)       </td><td>female                                             </td><td>35                                                 </td><td>1                                                  </td><td>0                                                  </td><td>113803                                             </td><td>53.1000                                            </td><td>C123                                               </td><td>S                                                  </td></tr>\n",
       "\t<tr><td>5                                                  </td><td>0                                                  </td><td>3                                                  </td><td>Allen, Mr. William Henry                           </td><td>male                                               </td><td>35                                                 </td><td>0                                                  </td><td>0                                                  </td><td>373450                                             </td><td> 8.0500                                            </td><td>                                                   </td><td>S                                                  </td></tr>\n",
       "\t<tr><td>6                                                  </td><td>0                                                  </td><td>3                                                  </td><td>Moran, Mr. James                                   </td><td>male                                               </td><td>NA                                                 </td><td>0                                                  </td><td>0                                                  </td><td>330877                                             </td><td> 8.4583                                            </td><td>                                                   </td><td>Q                                                  </td></tr>\n",
       "</tbody>\n",
       "</table>\n"
      ],
      "text/latex": [
       "\\begin{tabular}{r|llllllllllll}\n",
       " PassengerId & Survived & Pclass & Name & Sex & Age & SibSp & Parch & Ticket & Fare & Cabin & Embarked\\\\\n",
       "\\hline\n",
       "\t 1                                                   & 0                                                   & 3                                                   & Braund, Mr. Owen Harris                             & male                                                & 22                                                  & 1                                                   & 0                                                   & A/5 21171                                           &  7.2500                                             &                                                     & S                                                  \\\\\n",
       "\t 2                                                   & 1                                                   & 1                                                   & Cumings, Mrs. John Bradley (Florence Briggs Thayer) & female                                              & 38                                                  & 1                                                   & 0                                                   & PC 17599                                            & 71.2833                                             & C85                                                 & C                                                  \\\\\n",
       "\t 3                                                   & 1                                                   & 3                                                   & Heikkinen, Miss. Laina                              & female                                              & 26                                                  & 0                                                   & 0                                                   & STON/O2. 3101282                                    &  7.9250                                             &                                                     & S                                                  \\\\\n",
       "\t 4                                                   & 1                                                   & 1                                                   & Futrelle, Mrs. Jacques Heath (Lily May Peel)        & female                                              & 35                                                  & 1                                                   & 0                                                   & 113803                                              & 53.1000                                             & C123                                                & S                                                  \\\\\n",
       "\t 5                                                   & 0                                                   & 3                                                   & Allen, Mr. William Henry                            & male                                                & 35                                                  & 0                                                   & 0                                                   & 373450                                              &  8.0500                                             &                                                     & S                                                  \\\\\n",
       "\t 6                                                   & 0                                                   & 3                                                   & Moran, Mr. James                                    & male                                                & NA                                                  & 0                                                   & 0                                                   & 330877                                              &  8.4583                                             &                                                     & Q                                                  \\\\\n",
       "\\end{tabular}\n"
      ],
      "text/markdown": [
       "\n",
       "PassengerId | Survived | Pclass | Name | Sex | Age | SibSp | Parch | Ticket | Fare | Cabin | Embarked | \n",
       "|---|---|---|---|---|---|\n",
       "| 1                                                   | 0                                                   | 3                                                   | Braund, Mr. Owen Harris                             | male                                                | 22                                                  | 1                                                   | 0                                                   | A/5 21171                                           |  7.2500                                             |                                                     | S                                                   | \n",
       "| 2                                                   | 1                                                   | 1                                                   | Cumings, Mrs. John Bradley (Florence Briggs Thayer) | female                                              | 38                                                  | 1                                                   | 0                                                   | PC 17599                                            | 71.2833                                             | C85                                                 | C                                                   | \n",
       "| 3                                                   | 1                                                   | 3                                                   | Heikkinen, Miss. Laina                              | female                                              | 26                                                  | 0                                                   | 0                                                   | STON/O2. 3101282                                    |  7.9250                                             |                                                     | S                                                   | \n",
       "| 4                                                   | 1                                                   | 1                                                   | Futrelle, Mrs. Jacques Heath (Lily May Peel)        | female                                              | 35                                                  | 1                                                   | 0                                                   | 113803                                              | 53.1000                                             | C123                                                | S                                                   | \n",
       "| 5                                                   | 0                                                   | 3                                                   | Allen, Mr. William Henry                            | male                                                | 35                                                  | 0                                                   | 0                                                   | 373450                                              |  8.0500                                             |                                                     | S                                                   | \n",
       "| 6                                                   | 0                                                   | 3                                                   | Moran, Mr. James                                    | male                                                | NA                                                  | 0                                                   | 0                                                   | 330877                                              |  8.4583                                             |                                                     | Q                                                   | \n",
       "\n",
       "\n"
      ],
      "text/plain": [
       "  PassengerId Survived Pclass\n",
       "1 1           0        3     \n",
       "2 2           1        1     \n",
       "3 3           1        3     \n",
       "4 4           1        1     \n",
       "5 5           0        3     \n",
       "6 6           0        3     \n",
       "  Name                                                Sex    Age SibSp Parch\n",
       "1 Braund, Mr. Owen Harris                             male   22  1     0    \n",
       "2 Cumings, Mrs. John Bradley (Florence Briggs Thayer) female 38  1     0    \n",
       "3 Heikkinen, Miss. Laina                              female 26  0     0    \n",
       "4 Futrelle, Mrs. Jacques Heath (Lily May Peel)        female 35  1     0    \n",
       "5 Allen, Mr. William Henry                            male   35  0     0    \n",
       "6 Moran, Mr. James                                    male   NA  0     0    \n",
       "  Ticket           Fare    Cabin Embarked\n",
       "1 A/5 21171         7.2500       S       \n",
       "2 PC 17599         71.2833 C85   C       \n",
       "3 STON/O2. 3101282  7.9250       S       \n",
       "4 113803           53.1000 C123  S       \n",
       "5 373450            8.0500       S       \n",
       "6 330877            8.4583       Q       "
      ]
     },
     "metadata": {},
     "output_type": "display_data"
    }
   ],
   "source": [
    "raw.data <- read.csv(\"train.csv\")\n",
    "head(raw.data)"
   ]
  },
  {
   "cell_type": "code",
   "execution_count": 204,
   "metadata": {
    "collapsed": false
   },
   "outputs": [
    {
     "data": {
      "text/plain": [
       "  PassengerId       Survived          Pclass     \n",
       " Min.   :  1.0   Min.   :0.0000   Min.   :1.000  \n",
       " 1st Qu.:223.5   1st Qu.:0.0000   1st Qu.:2.000  \n",
       " Median :446.0   Median :0.0000   Median :3.000  \n",
       " Mean   :446.0   Mean   :0.3838   Mean   :2.309  \n",
       " 3rd Qu.:668.5   3rd Qu.:1.0000   3rd Qu.:3.000  \n",
       " Max.   :891.0   Max.   :1.0000   Max.   :3.000  \n",
       "                                                 \n",
       "                                    Name         Sex           Age       \n",
       " Abbing, Mr. Anthony                  :  1   female:314   Min.   : 0.42  \n",
       " Abbott, Mr. Rossmore Edward          :  1   male  :577   1st Qu.:20.12  \n",
       " Abbott, Mrs. Stanton (Rosa Hunt)     :  1                Median :28.00  \n",
       " Abelson, Mr. Samuel                  :  1                Mean   :29.70  \n",
       " Abelson, Mrs. Samuel (Hannah Wizosky):  1                3rd Qu.:38.00  \n",
       " Adahl, Mr. Mauritz Nils Martin       :  1                Max.   :80.00  \n",
       " (Other)                              :885                NA's   :177    \n",
       "     SibSp           Parch             Ticket         Fare       \n",
       " Min.   :0.000   Min.   :0.0000   1601    :  7   Min.   :  0.00  \n",
       " 1st Qu.:0.000   1st Qu.:0.0000   347082  :  7   1st Qu.:  7.91  \n",
       " Median :0.000   Median :0.0000   CA. 2343:  7   Median : 14.45  \n",
       " Mean   :0.523   Mean   :0.3816   3101295 :  6   Mean   : 32.20  \n",
       " 3rd Qu.:1.000   3rd Qu.:0.0000   347088  :  6   3rd Qu.: 31.00  \n",
       " Max.   :8.000   Max.   :6.0000   CA 2144 :  6   Max.   :512.33  \n",
       "                                  (Other) :852                   \n",
       "         Cabin     Embarked\n",
       "            :687    :  2   \n",
       " B96 B98    :  4   C:168   \n",
       " C23 C25 C27:  4   Q: 77   \n",
       " G6         :  4   S:644   \n",
       " C22 C26    :  3           \n",
       " D          :  3           \n",
       " (Other)    :186           "
      ]
     },
     "metadata": {},
     "output_type": "display_data"
    }
   ],
   "source": [
    "summary(raw.data)"
   ]
  },
  {
   "cell_type": "markdown",
   "metadata": {},
   "source": [
    "Подчищенный и подготовленный датасет:"
   ]
  },
  {
   "cell_type": "code",
   "execution_count": 78,
   "metadata": {
    "collapsed": false
   },
   "outputs": [
    {
     "data": {
      "text/plain": [
       "    Survived          Pclass          Sex           Age            SibSp      \n",
       " Min.   :0.0000   Min.   :1.000   female:314   Min.   : 0.42   Min.   :0.000  \n",
       " 1st Qu.:0.0000   1st Qu.:2.000   male  :577   1st Qu.:22.00   1st Qu.:0.000  \n",
       " Median :0.0000   Median :3.000                Median :29.70   Median :0.000  \n",
       " Mean   :0.3838   Mean   :2.309                Mean   :29.70   Mean   :0.523  \n",
       " 3rd Qu.:1.0000   3rd Qu.:3.000                3rd Qu.:35.00   3rd Qu.:1.000  \n",
       " Max.   :1.0000   Max.   :3.000                Max.   :80.00   Max.   :8.000  \n",
       "     Parch             Fare       \n",
       " Min.   :0.0000   Min.   :  0.00  \n",
       " 1st Qu.:0.0000   1st Qu.:  7.91  \n",
       " Median :0.0000   Median : 14.45  \n",
       " Mean   :0.3816   Mean   : 32.20  \n",
       " 3rd Qu.:0.0000   3rd Qu.: 31.00  \n",
       " Max.   :6.0000   Max.   :512.33  "
      ]
     },
     "metadata": {},
     "output_type": "display_data"
    }
   ],
   "source": []
  },
  {
   "cell_type": "code",
   "execution_count": 79,
   "metadata": {
    "collapsed": false
   },
   "outputs": [
    {
     "data": {
      "text/html": [
       "<table>\n",
       "<thead><tr><th scope=col>Survived</th><th scope=col>Pclass</th><th scope=col>Sex</th><th scope=col>Age</th><th scope=col>SibSp</th><th scope=col>Parch</th><th scope=col>Fare</th></tr></thead>\n",
       "<tbody>\n",
       "\t<tr><td>0       </td><td>3       </td><td>male    </td><td>22.00000</td><td>1       </td><td>0       </td><td> 7.2500 </td></tr>\n",
       "\t<tr><td>1       </td><td>1       </td><td>female  </td><td>38.00000</td><td>1       </td><td>0       </td><td>71.2833 </td></tr>\n",
       "\t<tr><td>1       </td><td>3       </td><td>female  </td><td>26.00000</td><td>0       </td><td>0       </td><td> 7.9250 </td></tr>\n",
       "\t<tr><td>1       </td><td>1       </td><td>female  </td><td>35.00000</td><td>1       </td><td>0       </td><td>53.1000 </td></tr>\n",
       "\t<tr><td>0       </td><td>3       </td><td>male    </td><td>35.00000</td><td>0       </td><td>0       </td><td> 8.0500 </td></tr>\n",
       "\t<tr><td>0       </td><td>3       </td><td>male    </td><td>29.69912</td><td>0       </td><td>0       </td><td> 8.4583 </td></tr>\n",
       "</tbody>\n",
       "</table>\n"
      ],
      "text/latex": [
       "\\begin{tabular}{r|lllllll}\n",
       " Survived & Pclass & Sex & Age & SibSp & Parch & Fare\\\\\n",
       "\\hline\n",
       "\t 0        & 3        & male     & 22.00000 & 1        & 0        &  7.2500 \\\\\n",
       "\t 1        & 1        & female   & 38.00000 & 1        & 0        & 71.2833 \\\\\n",
       "\t 1        & 3        & female   & 26.00000 & 0        & 0        &  7.9250 \\\\\n",
       "\t 1        & 1        & female   & 35.00000 & 1        & 0        & 53.1000 \\\\\n",
       "\t 0        & 3        & male     & 35.00000 & 0        & 0        &  8.0500 \\\\\n",
       "\t 0        & 3        & male     & 29.69912 & 0        & 0        &  8.4583 \\\\\n",
       "\\end{tabular}\n"
      ],
      "text/markdown": [
       "\n",
       "Survived | Pclass | Sex | Age | SibSp | Parch | Fare | \n",
       "|---|---|---|---|---|---|\n",
       "| 0        | 3        | male     | 22.00000 | 1        | 0        |  7.2500  | \n",
       "| 1        | 1        | female   | 38.00000 | 1        | 0        | 71.2833  | \n",
       "| 1        | 3        | female   | 26.00000 | 0        | 0        |  7.9250  | \n",
       "| 1        | 1        | female   | 35.00000 | 1        | 0        | 53.1000  | \n",
       "| 0        | 3        | male     | 35.00000 | 0        | 0        |  8.0500  | \n",
       "| 0        | 3        | male     | 29.69912 | 0        | 0        |  8.4583  | \n",
       "\n",
       "\n"
      ],
      "text/plain": [
       "  Survived Pclass Sex    Age      SibSp Parch Fare   \n",
       "1 0        3      male   22.00000 1     0      7.2500\n",
       "2 1        1      female 38.00000 1     0     71.2833\n",
       "3 1        3      female 26.00000 0     0      7.9250\n",
       "4 1        1      female 35.00000 1     0     53.1000\n",
       "5 0        3      male   35.00000 0     0      8.0500\n",
       "6 0        3      male   29.69912 0     0      8.4583"
      ]
     },
     "metadata": {},
     "output_type": "display_data"
    }
   ],
   "source": []
  },
  {
   "cell_type": "code",
   "execution_count": 60,
   "metadata": {
    "collapsed": false,
    "scrolled": false
   },
   "outputs": [
    {
     "data": {
      "text/plain": [
       "\n",
       "Call:\n",
       "glm(formula = Survived ~ Pclass + Sex + Age + SibSp + Parch + \n",
       "    Fare, family = \"binomial\", data = data)\n",
       "\n",
       "Deviance Residuals: \n",
       "    Min       1Q   Median       3Q      Max  \n",
       "-2.7129  -0.6032  -0.4273   0.6191   2.4186  \n",
       "\n",
       "Coefficients:\n",
       "             Estimate Std. Error z value Pr(>|z|)    \n",
       "(Intercept)  4.960445   0.532937   9.308  < 2e-16 ***\n",
       "Pclass      -1.084297   0.139119  -7.794 6.49e-15 ***\n",
       "Sexmale     -2.762930   0.199011 -13.883  < 2e-16 ***\n",
       "Age         -0.039702   0.007797  -5.092 3.55e-07 ***\n",
       "SibSp       -0.350725   0.109552  -3.201  0.00137 ** \n",
       "Parch       -0.111963   0.117400  -0.954  0.34024    \n",
       "Fare         0.002852   0.002361   1.208  0.22718    \n",
       "---\n",
       "Signif. codes:  0 ‘***’ 0.001 ‘**’ 0.01 ‘*’ 0.05 ‘.’ 0.1 ‘ ’ 1\n",
       "\n",
       "(Dispersion parameter for binomial family taken to be 1)\n",
       "\n",
       "    Null deviance: 1186.66  on 890  degrees of freedom\n",
       "Residual deviance:  788.73  on 884  degrees of freedom\n",
       "AIC: 802.73\n",
       "\n",
       "Number of Fisher Scoring iterations: 5\n"
      ]
     },
     "metadata": {},
     "output_type": "display_data"
    }
   ],
   "source": []
  },
  {
   "cell_type": "markdown",
   "metadata": {},
   "source": [
    "## Test"
   ]
  },
  {
   "cell_type": "markdown",
   "metadata": {},
   "source": [
    "### Задание"
   ]
  },
  {
   "cell_type": "markdown",
   "metadata": {},
   "source": [
    "Привести тестовый датасет к виду, на котором учились\n",
    "\n",
    "Применить логит регрессию к тестовому датасету\n",
    "\n",
    "Посчитать accuracy и log-loss"
   ]
  },
  {
   "cell_type": "markdown",
   "metadata": {},
   "source": [
    "### Функции в R\n",
    "`predicted <- predict(mylogit, test, type=\"response\")` - испоьзуем модель на новых данных"
   ]
  },
  {
   "cell_type": "code",
   "execution_count": 132,
   "metadata": {
    "collapsed": true
   },
   "outputs": [],
   "source": [
    "raw.test <- read.csv(\"test.csv\")"
   ]
  },
  {
   "cell_type": "code",
   "execution_count": 147,
   "metadata": {
    "collapsed": false
   },
   "outputs": [
    {
     "data": {
      "text/html": [
       "<table>\n",
       "<thead><tr><th scope=col>X</th><th scope=col>PassengerId</th><th scope=col>Pclass</th><th scope=col>Name</th><th scope=col>Sex</th><th scope=col>Age</th><th scope=col>SibSp</th><th scope=col>Parch</th><th scope=col>Ticket</th><th scope=col>Fare</th><th scope=col>Cabin</th><th scope=col>Embarked</th><th scope=col>Survived</th></tr></thead>\n",
       "<tbody>\n",
       "\t<tr><td>1                                           </td><td>892                                         </td><td>3                                           </td><td>Kelly, Mr. James                            </td><td>male                                        </td><td>34.5                                        </td><td>0                                           </td><td>0                                           </td><td>330911                                      </td><td> 7.8292                                     </td><td>                                            </td><td>Q                                           </td><td>0                                           </td></tr>\n",
       "\t<tr><td>2                                           </td><td>893                                         </td><td>3                                           </td><td>Wilkes, Mrs. James (Ellen Needs)            </td><td>female                                      </td><td>47.0                                        </td><td>1                                           </td><td>0                                           </td><td>363272                                      </td><td> 7.0000                                     </td><td>                                            </td><td>S                                           </td><td>1                                           </td></tr>\n",
       "\t<tr><td>3                                           </td><td>894                                         </td><td>2                                           </td><td>Myles, Mr. Thomas Francis                   </td><td>male                                        </td><td>62.0                                        </td><td>0                                           </td><td>0                                           </td><td>240276                                      </td><td> 9.6875                                     </td><td>                                            </td><td>Q                                           </td><td>0                                           </td></tr>\n",
       "\t<tr><td>4                                           </td><td>895                                         </td><td>3                                           </td><td>Wirz, Mr. Albert                            </td><td>male                                        </td><td>27.0                                        </td><td>0                                           </td><td>0                                           </td><td>315154                                      </td><td> 8.6625                                     </td><td>                                            </td><td>S                                           </td><td>0                                           </td></tr>\n",
       "\t<tr><td>5                                           </td><td>896                                         </td><td>3                                           </td><td>Hirvonen, Mrs. Alexander (Helga E Lindqvist)</td><td>female                                      </td><td>22.0                                        </td><td>1                                           </td><td>1                                           </td><td>3101298                                     </td><td>12.2875                                     </td><td>                                            </td><td>S                                           </td><td>1                                           </td></tr>\n",
       "\t<tr><td>6                                           </td><td>897                                         </td><td>3                                           </td><td>Svensson, Mr. Johan Cervin                  </td><td>male                                        </td><td>14.0                                        </td><td>0                                           </td><td>0                                           </td><td>7538                                        </td><td> 9.2250                                     </td><td>                                            </td><td>S                                           </td><td>0                                           </td></tr>\n",
       "</tbody>\n",
       "</table>\n"
      ],
      "text/latex": [
       "\\begin{tabular}{r|lllllllllllll}\n",
       " X & PassengerId & Pclass & Name & Sex & Age & SibSp & Parch & Ticket & Fare & Cabin & Embarked & Survived\\\\\n",
       "\\hline\n",
       "\t 1                                            & 892                                          & 3                                            & Kelly, Mr. James                             & male                                         & 34.5                                         & 0                                            & 0                                            & 330911                                       &  7.8292                                      &                                              & Q                                            & 0                                           \\\\\n",
       "\t 2                                            & 893                                          & 3                                            & Wilkes, Mrs. James (Ellen Needs)             & female                                       & 47.0                                         & 1                                            & 0                                            & 363272                                       &  7.0000                                      &                                              & S                                            & 1                                           \\\\\n",
       "\t 3                                            & 894                                          & 2                                            & Myles, Mr. Thomas Francis                    & male                                         & 62.0                                         & 0                                            & 0                                            & 240276                                       &  9.6875                                      &                                              & Q                                            & 0                                           \\\\\n",
       "\t 4                                            & 895                                          & 3                                            & Wirz, Mr. Albert                             & male                                         & 27.0                                         & 0                                            & 0                                            & 315154                                       &  8.6625                                      &                                              & S                                            & 0                                           \\\\\n",
       "\t 5                                            & 896                                          & 3                                            & Hirvonen, Mrs. Alexander (Helga E Lindqvist) & female                                       & 22.0                                         & 1                                            & 1                                            & 3101298                                      & 12.2875                                      &                                              & S                                            & 1                                           \\\\\n",
       "\t 6                                            & 897                                          & 3                                            & Svensson, Mr. Johan Cervin                   & male                                         & 14.0                                         & 0                                            & 0                                            & 7538                                         &  9.2250                                      &                                              & S                                            & 0                                           \\\\\n",
       "\\end{tabular}\n"
      ],
      "text/markdown": [
       "\n",
       "X | PassengerId | Pclass | Name | Sex | Age | SibSp | Parch | Ticket | Fare | Cabin | Embarked | Survived | \n",
       "|---|---|---|---|---|---|\n",
       "| 1                                            | 892                                          | 3                                            | Kelly, Mr. James                             | male                                         | 34.5                                         | 0                                            | 0                                            | 330911                                       |  7.8292                                      |                                              | Q                                            | 0                                            | \n",
       "| 2                                            | 893                                          | 3                                            | Wilkes, Mrs. James (Ellen Needs)             | female                                       | 47.0                                         | 1                                            | 0                                            | 363272                                       |  7.0000                                      |                                              | S                                            | 1                                            | \n",
       "| 3                                            | 894                                          | 2                                            | Myles, Mr. Thomas Francis                    | male                                         | 62.0                                         | 0                                            | 0                                            | 240276                                       |  9.6875                                      |                                              | Q                                            | 0                                            | \n",
       "| 4                                            | 895                                          | 3                                            | Wirz, Mr. Albert                             | male                                         | 27.0                                         | 0                                            | 0                                            | 315154                                       |  8.6625                                      |                                              | S                                            | 0                                            | \n",
       "| 5                                            | 896                                          | 3                                            | Hirvonen, Mrs. Alexander (Helga E Lindqvist) | female                                       | 22.0                                         | 1                                            | 1                                            | 3101298                                      | 12.2875                                      |                                              | S                                            | 1                                            | \n",
       "| 6                                            | 897                                          | 3                                            | Svensson, Mr. Johan Cervin                   | male                                         | 14.0                                         | 0                                            | 0                                            | 7538                                         |  9.2250                                      |                                              | S                                            | 0                                            | \n",
       "\n",
       "\n"
      ],
      "text/plain": [
       "  X PassengerId Pclass Name                                         Sex    Age \n",
       "1 1 892         3      Kelly, Mr. James                             male   34.5\n",
       "2 2 893         3      Wilkes, Mrs. James (Ellen Needs)             female 47.0\n",
       "3 3 894         2      Myles, Mr. Thomas Francis                    male   62.0\n",
       "4 4 895         3      Wirz, Mr. Albert                             male   27.0\n",
       "5 5 896         3      Hirvonen, Mrs. Alexander (Helga E Lindqvist) female 22.0\n",
       "6 6 897         3      Svensson, Mr. Johan Cervin                   male   14.0\n",
       "  SibSp Parch Ticket  Fare    Cabin Embarked Survived\n",
       "1 0     0     330911   7.8292       Q        0       \n",
       "2 1     0     363272   7.0000       S        1       \n",
       "3 0     0     240276   9.6875       Q        0       \n",
       "4 0     0     315154   8.6625       S        0       \n",
       "5 1     1     3101298 12.2875       S        1       \n",
       "6 0     0     7538     9.2250       S        0       "
      ]
     },
     "metadata": {},
     "output_type": "display_data"
    }
   ],
   "source": [
    "head(raw.test)"
   ]
  },
  {
   "cell_type": "code",
   "execution_count": 182,
   "metadata": {
    "collapsed": false
   },
   "outputs": [],
   "source": [
    "raw.test <- raw.test[!is.na(raw.test$Fare),]"
   ]
  },
  {
   "cell_type": "markdown",
   "metadata": {},
   "source": [
    "Отделим отклик, чтобы потом сравнить с нашим результатом"
   ]
  },
  {
   "cell_type": "code",
   "execution_count": 184,
   "metadata": {
    "collapsed": true
   },
   "outputs": [],
   "source": [
    "y.test <- raw.test$Survived"
   ]
  },
  {
   "cell_type": "markdown",
   "metadata": {},
   "source": [
    "Приведем датасет к формату, на котором строили логит"
   ]
  },
  {
   "cell_type": "code",
   "execution_count": 208,
   "metadata": {
    "collapsed": false
   },
   "outputs": [
    {
     "data": {
      "text/plain": [
       "     Pclass          Sex           Age            SibSp            Parch       \n",
       " Min.   :1.000   female:152   Min.   : 0.17   Min.   :0.0000   Min.   :0.0000  \n",
       " 1st Qu.:1.000   male  :265   1st Qu.:23.00   1st Qu.:0.0000   1st Qu.:0.0000  \n",
       " Median :3.000                Median :29.70   Median :0.0000   Median :0.0000  \n",
       " Mean   :2.264                Mean   :30.08   Mean   :0.4484   Mean   :0.3933  \n",
       " 3rd Qu.:3.000                3rd Qu.:35.00   3rd Qu.:1.0000   3rd Qu.:0.0000  \n",
       " Max.   :3.000                Max.   :76.00   Max.   :8.0000   Max.   :9.0000  \n",
       "      Fare        \n",
       " Min.   :  0.000  \n",
       " 1st Qu.:  7.896  \n",
       " Median : 14.454  \n",
       " Mean   : 35.627  \n",
       " 3rd Qu.: 31.500  \n",
       " Max.   :512.329  "
      ]
     },
     "metadata": {},
     "output_type": "display_data"
    }
   ],
   "source": [
    "summary(test)"
   ]
  },
  {
   "cell_type": "markdown",
   "metadata": {},
   "source": [
    "### Accuracy"
   ]
  },
  {
   "cell_type": "code",
   "execution_count": 220,
   "metadata": {
    "collapsed": true
   },
   "outputs": [],
   "source": [
    "acc <- function(y.pred, y.real) {\n",
    "    return(0)\n",
    "}"
   ]
  },
  {
   "cell_type": "code",
   "execution_count": 221,
   "metadata": {
    "collapsed": false
   },
   "outputs": [
    {
     "data": {
      "text/html": [
       "0.937649880095923"
      ],
      "text/latex": [
       "0.937649880095923"
      ],
      "text/markdown": [
       "0.937649880095923"
      ],
      "text/plain": [
       "[1] 0.9376499"
      ]
     },
     "metadata": {},
     "output_type": "display_data"
    }
   ],
   "source": [
    "acc(predicted, y.test)"
   ]
  },
  {
   "cell_type": "markdown",
   "metadata": {},
   "source": [
    "Accuracy рандома"
   ]
  },
  {
   "cell_type": "code",
   "execution_count": 225,
   "metadata": {
    "collapsed": false
   },
   "outputs": [
    {
     "data": {
      "text/html": [
       "0.515587529976019"
      ],
      "text/latex": [
       "0.515587529976019"
      ],
      "text/markdown": [
       "0.515587529976019"
      ],
      "text/plain": [
       "[1] 0.5155875"
      ]
     },
     "metadata": {},
     "output_type": "display_data"
    }
   ],
   "source": [
    "acc(runif(length(y.test), 0, 1), y.test)"
   ]
  },
  {
   "cell_type": "markdown",
   "metadata": {},
   "source": [
    "### Log-loss"
   ]
  },
  {
   "cell_type": "code",
   "execution_count": 227,
   "metadata": {
    "collapsed": true
   },
   "outputs": [],
   "source": [
    "log.loss <- function(y.pred, y.real) {\n",
    "    return (0)\n",
    "}"
   ]
  },
  {
   "cell_type": "code",
   "execution_count": 228,
   "metadata": {
    "collapsed": false
   },
   "outputs": [
    {
     "data": {
      "text/html": [
       "0.271689019151505"
      ],
      "text/latex": [
       "0.271689019151505"
      ],
      "text/markdown": [
       "0.271689019151505"
      ],
      "text/plain": [
       "[1] 0.271689"
      ]
     },
     "metadata": {},
     "output_type": "display_data"
    }
   ],
   "source": [
    "log.loss(predicted, y.test)"
   ]
  },
  {
   "cell_type": "markdown",
   "metadata": {},
   "source": [
    "Log loss рандома"
   ]
  },
  {
   "cell_type": "code",
   "execution_count": 229,
   "metadata": {
    "collapsed": false
   },
   "outputs": [
    {
     "data": {
      "text/html": [
       "0.965980498183604"
      ],
      "text/latex": [
       "0.965980498183604"
      ],
      "text/markdown": [
       "0.965980498183604"
      ],
      "text/plain": [
       "[1] 0.9659805"
      ]
     },
     "metadata": {},
     "output_type": "display_data"
    }
   ],
   "source": [
    "log.loss(rand, y.test)"
   ]
  }
 ],
 "metadata": {
  "anaconda-cloud": {},
  "kernelspec": {
   "display_name": "R",
   "language": "R",
   "name": "ir"
  },
  "language_info": {
   "codemirror_mode": "r",
   "file_extension": ".r",
   "mimetype": "text/x-r-source",
   "name": "R",
   "pygments_lexer": "r",
   "version": "3.3.2"
  }
 },
 "nbformat": 4,
 "nbformat_minor": 1
}
