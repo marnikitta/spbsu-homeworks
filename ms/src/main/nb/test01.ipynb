{
 "cells": [
  {
   "cell_type": "markdown",
   "metadata": {},
   "source": [
    "# Самостоятельная работа"
   ]
  },
  {
   "cell_type": "markdown",
   "metadata": {},
   "source": [
    "## Маршалкин Никита 341"
   ]
  },
  {
   "cell_type": "markdown",
   "metadata": {},
   "source": [
    "### Task 1"
   ]
  },
  {
   "cell_type": "markdown",
   "metadata": {},
   "source": [
    "$H_0: p = p_0 = \\frac{1}{2}$\n",
    "\n",
    "$H_1: p > p_0$\n",
    "\n",
    "$P_{H_0} (H_1) = P\\{k > 70 | p = \\frac{1}{2}\\} = \\sum_{i=71}^{100} C_{100}^i p_0^i (1-p_0)^{100-i})$"
   ]
  },
  {
   "cell_type": "code",
   "execution_count": 35,
   "metadata": {
    "collapsed": true
   },
   "outputs": [],
   "source": [
    "res <- pbinom(100, 100, 1/2) - pbinom(70, 100, 1/2)"
   ]
  },
  {
   "cell_type": "markdown",
   "metadata": {},
   "source": [
    "Ответ:"
   ]
  },
  {
   "cell_type": "code",
   "execution_count": 36,
   "metadata": {
    "collapsed": false
   },
   "outputs": [
    {
     "data": {
      "text/html": [
       "1.60800076478562e-05"
      ],
      "text/latex": [
       "1.60800076478562e-05"
      ],
      "text/markdown": [
       "1.60800076478562e-05"
      ],
      "text/plain": [
       "[1] 1.608001e-05"
      ]
     },
     "metadata": {},
     "output_type": "display_data"
    }
   ],
   "source": [
    "res"
   ]
  },
  {
   "cell_type": "markdown",
   "metadata": {},
   "source": [
    "### Task 2"
   ]
  },
  {
   "cell_type": "code",
   "execution_count": 37,
   "metadata": {
    "collapsed": true
   },
   "outputs": [],
   "source": [
    "data <- c(74, 92, 83, 79, 80, 73, 77, 75, 76, 91)\n",
    "prob <- rep(1/10, 10)"
   ]
  },
  {
   "cell_type": "code",
   "execution_count": 38,
   "metadata": {
    "collapsed": false
   },
   "outputs": [
    {
     "data": {
      "text/plain": [
       "\n",
       "\tChi-squared test for given probabilities\n",
       "\n",
       "data:  data\n",
       "X-squared = 5.125, df = 9, p-value = 0.8233\n"
      ]
     },
     "metadata": {},
     "output_type": "display_data"
    }
   ],
   "source": [
    "chisq.test(x=data, p=prob)"
   ]
  },
  {
   "cell_type": "markdown",
   "metadata": {},
   "source": [
    "При уровне значимости $\\alpha=0.05$ нулевая гипотеза не может быть отвергнута. Распределение незначительно отклоняется от нормального"
   ]
  },
  {
   "cell_type": "markdown",
   "metadata": {},
   "source": [
    "### Task 3"
   ]
  },
  {
   "cell_type": "code",
   "execution_count": 39,
   "metadata": {
    "collapsed": false
   },
   "outputs": [
    {
     "data": {
      "text/plain": [
       "         Male   Female\n",
       "Ok   15729000 16799000\n",
       "Deaf     3497     3072"
      ]
     },
     "metadata": {},
     "output_type": "display_data"
    }
   ],
   "source": [
    "mat <- matrix(c(15729000, 16799000, 3497, 3072), nrow = 2, byrow = T)\n",
    "colnames(mat) <- c(\"Male\", \"Female\")\n",
    "rownames(mat) <- c(\"Ok\", \"Deaf\")\n",
    "tab <- as.table(mat)\n",
    "tab"
   ]
  },
  {
   "cell_type": "code",
   "execution_count": 40,
   "metadata": {
    "collapsed": false
   },
   "outputs": [
    {
     "data": {
      "text/plain": [
       "\n",
       "\tPearson's Chi-squared test with Yates' continuity correction\n",
       "\n",
       "data:  tab\n",
       "X-squared = 62.425, df = 1, p-value = 2.768e-15\n"
      ]
     },
     "metadata": {},
     "output_type": "display_data"
    }
   ],
   "source": [
    "chisq.test(tab)"
   ]
  },
  {
   "cell_type": "markdown",
   "metadata": {},
   "source": [
    "При уровне значимости $\\alpha=0.05$ нулевая гипотеза отвергается. Глухонемота зависит от пола."
   ]
  }
 ],
 "metadata": {
  "anaconda-cloud": {},
  "kernelspec": {
   "display_name": "R",
   "language": "R",
   "name": "ir"
  },
  "language_info": {
   "codemirror_mode": "r",
   "file_extension": ".r",
   "mimetype": "text/x-r-source",
   "name": "R",
   "pygments_lexer": "r",
   "version": "3.3.2"
  }
 },
 "nbformat": 4,
 "nbformat_minor": 1
}
